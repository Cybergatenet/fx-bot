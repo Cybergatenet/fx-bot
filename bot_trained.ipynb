{
 "cells": [
  {
   "cell_type": "code",
   "execution_count": 61,
   "metadata": {},
   "outputs": [],
   "source": [
    "import MetaTrader5 as mt5\n",
    "import mysql.connector\n",
    "import pandas as pd\n",
    "import numpy as np\n",
    "import time\n",
    "import requests\n",
    "from datetime import datetime\n",
    "\n",
    "import os\n",
    "from dotenv import load_dotenv"
   ]
  },
  {
   "cell_type": "code",
   "execution_count": 62,
   "metadata": {},
   "outputs": [],
   "source": [
    "# Connect to Exness MT5\n",
    "# if not mt5.initialize():\n",
    "#     print(\"MT5 initialization failed \\n\")\n",
    "#     quit()\n",
    "\n",
    "# Load variables from .env file\n",
    "load_dotenv()\n",
    "\n",
    "YOUR_LOGIN = int(os.getenv(\"MT5_LOGIN\"))\n",
    "YOUR_PWD = os.getenv(\"MT5_PWD\")\n",
    "SERVER = os.getenv(\"MT5_SERVER\")"
   ]
  },
  {
   "cell_type": "code",
   "execution_count": 63,
   "metadata": {},
   "outputs": [
    {
     "name": "stdout",
     "output_type": "stream",
     "text": [
      "Connected successfully!\n",
      "\n"
     ]
    }
   ],
   "source": [
    "# Connect to the MetaTrader 5 terminal\n",
    "if not mt5.initialize(login=YOUR_LOGIN, server=SERVER, password=YOUR_PWD):\n",
    "    print(\"Failed to connect to MT5\\n\")\n",
    "    mt5.shutdown()\n",
    "else:\n",
    "    print(\"Connected successfully!\\n\")"
   ]
  },
  {
   "cell_type": "code",
   "execution_count": 64,
   "metadata": {},
   "outputs": [
    {
     "name": "stdout",
     "output_type": "stream",
     "text": [
      "Account Balance: 168.02\n",
      "\n"
     ]
    }
   ],
   "source": [
    "# Get account information\n",
    "account_info = mt5.account_info()\n",
    "if account_info is None:\n",
    "    print(\"Failed to get account information\\n\")\n",
    "else:\n",
    "    # print(f\"Account Info: {account_info}\\n\")\n",
    "    print(f\"Account Balance: {account_info.balance}\\n\")\n"
   ]
  },
  {
   "cell_type": "code",
   "execution_count": 65,
   "metadata": {},
   "outputs": [],
   "source": [
    "# Trading Configuration\n",
    "PAIR = \"XAUUSDm\"\n",
    "RISK_PERCENTAGE = 3  # Risk 3% per trade\n",
    "STOP_LOSS_PIPS = 30\n",
    "TAKE_PROFIT_PIPS = 90\n",
    "WIN_RATE = 0.55  # Based on backtest\n",
    "MAX_LOSSES = 3  # Stop trading after 3 consecutive losses\n",
    "loss_streak = 0  # Track consecutive losses\n",
    "START_BALANCE = 100\n",
    "PIP_VALUE = 0.01 # GOLD PIP value #0.01"
   ]
  },
  {
   "cell_type": "code",
   "execution_count": 66,
   "metadata": {},
   "outputs": [],
   "source": [
    "# Telegram Bot Configuration\n",
    "TELEGRAM_BOT_TOKEN = os.getenv(\"BOT_TOKEN\")\n",
    "TELEGRAM_CHAT_ID = os.getenv(\"CHAT_ID\")"
   ]
  },
  {
   "cell_type": "code",
   "execution_count": 67,
   "metadata": {},
   "outputs": [],
   "source": [
    "# Connect to MySQL (XAMPP)\n",
    "conn = mysql.connector.connect(\n",
    "    host=\"localhost\",\n",
    "    user=\"root\",\n",
    "    password=\"\",\n",
    "    database=\"trading_db\"\n",
    ")\n",
    "cursor = conn.cursor()"
   ]
  },
  {
   "cell_type": "code",
   "execution_count": 68,
   "metadata": {},
   "outputs": [],
   "source": [
    "def send_telegram_message(message):\n",
    "    \"\"\" Send trade notifications to Telegram. \"\"\"\n",
    "    url = f\"https://api.telegram.org/bot{TELEGRAM_BOT_TOKEN}/sendMessage\"\n",
    "    params = {\"chat_id\": TELEGRAM_CHAT_ID, \"text\": message}\n",
    "    requests.post(url, params=params)"
   ]
  },
  {
   "cell_type": "code",
   "execution_count": 69,
   "metadata": {},
   "outputs": [],
   "source": [
    "def fetch_market_price():\n",
    "    \"\"\" Get the latest market price for Gold (XAUUSD). \"\"\"\n",
    "    # symbol_info = mt5.symbol_info(PAIR)\n",
    "    tick = mt5.symbol_info_tick(PAIR)\n",
    "    # print(f\"Current market Ask price: {tick.ask}\")\n",
    "    return tick.ask\n",
    "    # return {tick.ask, symbol_info.point}\n",
    "\n",
    "# tick, symbol = fetch_market_price()\n",
    "# print(type(symbol))\n",
    "# print(f\"Current Ask Price is: {tick} and PIP Values for {PAIR} is: {symbol}\")"
   ]
  },
  {
   "cell_type": "code",
   "execution_count": 70,
   "metadata": {},
   "outputs": [],
   "source": [
    "def get_pip_value():\n",
    "    \"\"\" Get the pip value for Gold (XAUUSD) or any Other Pair(Instrument). \"\"\"\n",
    "    symbol_info = mt5.symbol_info(PAIR)\n",
    "    # print(f\"Current pip Value: {symbol_info.point}\")\n",
    "    return symbol_info.point\n",
    "\n",
    "# get_pip_value()"
   ]
  },
  {
   "cell_type": "code",
   "execution_count": 71,
   "metadata": {},
   "outputs": [],
   "source": [
    "def fetch_current_balance():\n",
    "    \"\"\" Get the Current balance on this MT5 Account \"\"\"\n",
    "    balance = account_info.balance\n",
    "    return balance\n",
    "# fetch_current_balance()"
   ]
  },
  {
   "cell_type": "code",
   "execution_count": 72,
   "metadata": {},
   "outputs": [],
   "source": [
    "def fetch_moving_averages():\n",
    "    \"\"\" Fetch Moving Averages (MA 100, MA 5, MA 2) for trend confirmation. \"\"\"\n",
    "    # rates = mt5.copy_rates_from_pos(PAIR, mt5.TIMEFRAME_H1, 0, 200)\n",
    "    rates = mt5.copy_rates_from_pos(PAIR, mt5.TIMEFRAME_M5, 0, 200)\n",
    "    df = pd.DataFrame(rates)\n",
    "    \n",
    "    df[\"MA100\"] = df[\"close\"].rolling(window=100).mean()\n",
    "    df[\"MA5\"] = df[\"close\"].rolling(window=5).mean()\n",
    "    df[\"MA2\"] = df[\"close\"].rolling(window=2).mean()\n",
    "    \n",
    "    return df.iloc[-1]  # Return latest row\n",
    "    # print(mt5)\n",
    "\n",
    "# fetch_moving_averages()"
   ]
  },
  {
   "cell_type": "code",
   "execution_count": 73,
   "metadata": {},
   "outputs": [],
   "source": [
    "# def fetch_moving_averages():\n",
    "#     rates = mt5.copy_rates_from_pos(PAIR, mt5.TIMEFRAME_H1, 0, 200)\n",
    "#     if rates is None or len(rates) == 0:\n",
    "#         print(\"❌ Failed to fetch market data.\")\n",
    "#         return None\n",
    "\n",
    "#     df = pd.DataFrame(rates)\n",
    "#     if 'close' not in df.columns:\n",
    "#         print(\"❌ 'close' column not found in the DataFrame.\")\n",
    "#         print(df.head())\n",
    "#         print(df.columns)\n",
    "#         return None\n",
    "\n",
    "#     df[\"MA100\"] = df[\"close\"].rolling(window=100).mean()\n",
    "#     df[\"MA5\"] = df[\"close\"].rolling(window=5).mean()\n",
    "#     df[\"MA2\"] = df[\"close\"].rolling(window=2).mean()\n",
    "#     # return df\n",
    "#     return df.iloc[-1]  # Return latest row\n",
    "\n",
    "# # fetch_moving_averages()\n"
   ]
  },
  {
   "cell_type": "code",
   "execution_count": 74,
   "metadata": {},
   "outputs": [],
   "source": [
    "def calculate_lot_size(balance):\n",
    "    \"\"\" Calculate lot size based on 3% risk per trade. \"\"\"\n",
    "    risk_amount = balance * (RISK_PERCENTAGE / 100)\n",
    "    lot_size = risk_amount / STOP_LOSS_PIPS  # Adjust based on pip value\n",
    "    print(f\"Lot Size used: {round(lot_size, 2)}\") \n",
    "    # print(f\"Lot Size used: {round(lot_size, 2) - 0.1}\") \n",
    "    return round(lot_size, 2)\n",
    "    # return 0.01"
   ]
  },
  {
   "cell_type": "code",
   "execution_count": 75,
   "metadata": {},
   "outputs": [
    {
     "name": "stdout",
     "output_type": "stream",
     "text": [
      "Your lot size should be: 0.4 and AMOUNT: 2.0\n"
     ]
    }
   ],
   "source": [
    "# Alternative Lot size calculator\n",
    "def calculate_gold_lot_size(risk_percentage, stop_loss_pips, pip_value=0.01, pip_worth_per_lot=10):\n",
    "    \"\"\"\n",
    "    Calculates lot size for GOLD (XAUUSD)\n",
    "    \n",
    "    Args:\n",
    "        risk_amount_usd (float): Amount you're willing to risk (in USD)\n",
    "        stop_loss_pips (float): Stop loss in pips\n",
    "        pip_value (float): Pip value for XAUUSD (default is 0.01)\n",
    "        pip_worth_per_lot (float): Dollar value per pip for 1.00 lot (standard is $10 for Gold)\n",
    "        risk_percentage: Percentage of Account willing to loose\n",
    "\n",
    "    Returns:\n",
    "        float: Lot size\n",
    "    \"\"\"\n",
    "    stop_loss_in_dollars = stop_loss_pips * (pip_worth_per_lot / (1 / pip_value))\n",
    "    risk_amount_usd = 100 * (risk_percentage / 100)\n",
    "    lot_size = risk_amount_usd / stop_loss_in_dollars\n",
    "    return {round(lot_size, 3), risk_amount_usd}\n",
    "\n",
    "# Example usage:\n",
    "# risk = 3  # USD\n",
    "risk = 2  # percentage Risk\n",
    "sl_pips = 50  # `pips`\n",
    "lot, amount = calculate_gold_lot_size(risk, sl_pips)\n",
    "print(f\"Your lot size should be: {lot} and AMOUNT: {amount}\")\n"
   ]
  },
  {
   "cell_type": "code",
   "execution_count": 76,
   "metadata": {},
   "outputs": [],
   "source": [
    "def place_trade(balance):\n",
    "    \"\"\" Place buy/sell trade based on strategy rules. \"\"\"\n",
    "    global loss_streak\n",
    "    if loss_streak >= MAX_LOSSES:\n",
    "        print(\"Maximum consecutive losses reached. Stopping trading.\\n\")\n",
    "        send_telegram_message(\"🚨 Trading paused due to 3 consecutive losses.\")\n",
    "        return None  # Stop trading\n",
    "\n",
    "    ma = fetch_moving_averages()\n",
    "    market_price = fetch_market_price()\n",
    "    lot_size = calculate_lot_size(balance)\n",
    "\n",
    "    if market_price > ma[\"MA100\"] and ma[\"MA2\"] > ma[\"MA5\"]:  \n",
    "        trade_type = \"buy\"\n",
    "        # stop_loss = market_price - (STOP_LOSS_PIPS * (PIP_VALUE if get_pip_value() is None else get_pip_value()))\n",
    "        # take_profit = market_price + (TAKE_PROFIT_PIPS * (PIP_VALUE if get_pip_value() is None else get_pip_value()))\n",
    "        stop_loss = market_price - (STOP_LOSS_PIPS * PIP_VALUE)\n",
    "        take_profit = market_price + (TAKE_PROFIT_PIPS * PIP_VALUE)\n",
    "    elif market_price < ma[\"MA100\"] and ma[\"MA2\"] < ma[\"MA5\"]:\n",
    "        trade_type = \"sell\"\n",
    "        # stop_loss = market_price + (STOP_LOSS_PIPS * (PIP_VALUE if get_pip_value() is None else get_pip_value()))\n",
    "        # take_profit = market_price - (TAKE_PROFIT_PIPS * (PIP_VALUE if get_pip_value() is None else get_pip_value()))\n",
    "        stop_loss = market_price + (STOP_LOSS_PIPS * PIP_VALUE)\n",
    "        take_profit = market_price - (TAKE_PROFIT_PIPS * PIP_VALUE)\n",
    "    else:\n",
    "        return None  # No valid trade signal\n",
    "\n",
    "    request = {\n",
    "        \"action\": mt5.TRADE_ACTION_DEAL,\n",
    "        \"symbol\": PAIR,\n",
    "        \"volume\": lot_size,\n",
    "        \"type\": mt5.ORDER_TYPE_BUY if trade_type == \"buy\" else mt5.ORDER_TYPE_SELL,\n",
    "        \"price\": market_price,\n",
    "        \"sl\": round(stop_loss,3),\n",
    "        \"tp\": round(take_profit,3),\n",
    "        \"deviation\": 10,\n",
    "        \"magic\": 123456,\n",
    "        \"comment\": \"Automated Trade\",\n",
    "        \"type_time\": mt5.ORDER_TIME_GTC,\n",
    "        \"type_filling\": mt5.ORDER_FILLING_IOC\n",
    "    }\n",
    "\n",
    "    result = mt5.order_send(request)\n",
    "    if result.retcode == mt5.TRADE_RETCODE_DONE:\n",
    "        message = f\"✅ {trade_type.upper()} Trade Placed\\nLot Size: {lot_size}\\nEntry: {market_price}\\nSL: {stop_loss}\\nTP: {take_profit} \\n\\nThis is no Finacail Advise. \\nFollow at your own risk👌\"\n",
    "        send_telegram_message(message)\n",
    "        return {\"type\": trade_type, \"lot_size\": lot_size, \"entry\": market_price, \"sl\": stop_loss, \"tp\": take_profit}\n",
    "    else:\n",
    "        print(f\"Trade failed: {result.comment} \\n\")\n",
    "        return None"
   ]
  },
  {
   "cell_type": "code",
   "execution_count": 77,
   "metadata": {},
   "outputs": [],
   "source": [
    "def log_trade(trade, exit_price, profit_loss):\n",
    "    \"\"\" Save trade details to MySQL database. \"\"\"\n",
    "    sql = \"INSERT INTO trade_logs (pair, trade_type, lot_size, entry_price, stop_loss, take_profit, exit_price, profit_loss) VALUES (%s, %s, %s, %s, %s, %s, %s, %s)\"\n",
    "    cursor.execute(sql, (PAIR, trade[\"type\"], trade[\"lot_size\"], trade[\"entry\"], trade[\"sl\"], trade[\"tp\"], exit_price, profit_loss))\n",
    "    conn.commit()\n",
    "    print(\"Trade logged in database.\\n\")\n",
    "\n",
    "# log_trade([\"GOLD\", \"BUY\", 0.01, 3312.968, 3313.333,2333.111, 3321.332,4444.111], 38373, 37373)"
   ]
  },
  {
   "cell_type": "code",
   "execution_count": 78,
   "metadata": {},
   "outputs": [],
   "source": [
    "def trailing_stop(trade):\n",
    "    \"\"\" Adjust stop loss dynamically when price moves in favor. \"\"\"\n",
    "    entry_price = trade[\"entry\"]\n",
    "    stop_loss = trade[\"sl\"]\n",
    "    trade_type = trade[\"type\"]\n",
    "\n",
    "    while True:\n",
    "        current_price = fetch_market_price()\n",
    "        if trade_type == \"buy\" and current_price > entry_price + 30:\n",
    "            new_stop_loss = current_price - 20\n",
    "            if new_stop_loss > stop_loss:\n",
    "                stop_loss = new_stop_loss\n",
    "                print(f\"Updated Buy Trailing Stop: {stop_loss} \\n\")\n",
    "                send_telegram_message(f\"Updated Buy Trailing Stop: {stop_loss} \\n\")\n",
    "        elif trade_type == \"sell\" and current_price < entry_price - 30:\n",
    "            new_stop_loss = current_price + 20\n",
    "            if new_stop_loss < stop_loss:\n",
    "                stop_loss = new_stop_loss\n",
    "                print(f\"Updated Sell Trailing Stop: {stop_loss}\\n\")\n",
    "                send_telegram_message(f\"Updated Sell Trailing Stop: {stop_loss}\\n\")\n",
    "\n",
    "        time.sleep(5)  # Delay to avoid excessive API calls"
   ]
  },
  {
   "cell_type": "code",
   "execution_count": 79,
   "metadata": {},
   "outputs": [],
   "source": [
    "def trading_bot():\n",
    "    \"\"\" Main trading loop. \"\"\"\n",
    "    global loss_streak\n",
    "    balance = account_info.balance if account_info.balance is not None else float(START_BALANCE) # Starting balance\n",
    "    while balance >= 0:\n",
    "        trade = place_trade(balance)\n",
    "        if trade:\n",
    "            trailing_stop(trade)\n",
    "\n",
    "            # Simulate trade outcome\n",
    "            exit_price = fetch_market_price()\n",
    "            profit_loss = balance * (0.03 if WIN_RATE > 0.55 else -0.01)\n",
    "            balance += profit_loss\n",
    "\n",
    "            log_trade(trade, exit_price, profit_loss)\n",
    "\n",
    "            if profit_loss < 0:\n",
    "                loss_streak += 1\n",
    "            else:\n",
    "                loss_streak = 0  # Reset loss streak on win\n",
    "\n",
    "            print(f\"Updated Balance: {round(balance, 2)} \\n\")\n",
    "            send_telegram_message(f\"📊 Balance Updated: {round(balance, 2)}\")\n",
    "\n",
    "        time.sleep(10)  # Wait before checking for new trades"
   ]
  },
  {
   "cell_type": "code",
   "execution_count": 80,
   "metadata": {},
   "outputs": [
    {
     "name": "stdout",
     "output_type": "stream",
     "text": [
      "Lot Size used: 0.17\n"
     ]
    },
    {
     "ename": "KeyboardInterrupt",
     "evalue": "",
     "output_type": "error",
     "traceback": [
      "\u001b[1;31m---------------------------------------------------------------------------\u001b[0m",
      "\u001b[1;31mKeyboardInterrupt\u001b[0m                         Traceback (most recent call last)",
      "Cell \u001b[1;32mIn[80], line 2\u001b[0m\n\u001b[0;32m      1\u001b[0m \u001b[38;5;66;03m# Start Trading\u001b[39;00m\n\u001b[1;32m----> 2\u001b[0m \u001b[43mtrading_bot\u001b[49m\u001b[43m(\u001b[49m\u001b[43m)\u001b[49m\n",
      "Cell \u001b[1;32mIn[79], line 8\u001b[0m, in \u001b[0;36mtrading_bot\u001b[1;34m()\u001b[0m\n\u001b[0;32m      6\u001b[0m trade \u001b[38;5;241m=\u001b[39m place_trade(balance)\n\u001b[0;32m      7\u001b[0m \u001b[38;5;28;01mif\u001b[39;00m trade:\n\u001b[1;32m----> 8\u001b[0m     \u001b[43mtrailing_stop\u001b[49m\u001b[43m(\u001b[49m\u001b[43mtrade\u001b[49m\u001b[43m)\u001b[49m\n\u001b[0;32m     10\u001b[0m     \u001b[38;5;66;03m# Simulate trade outcome\u001b[39;00m\n\u001b[0;32m     11\u001b[0m     exit_price \u001b[38;5;241m=\u001b[39m fetch_market_price()\n",
      "Cell \u001b[1;32mIn[78], line 22\u001b[0m, in \u001b[0;36mtrailing_stop\u001b[1;34m(trade)\u001b[0m\n\u001b[0;32m     19\u001b[0m         \u001b[38;5;28mprint\u001b[39m(\u001b[38;5;124mf\u001b[39m\u001b[38;5;124m\"\u001b[39m\u001b[38;5;124mUpdated Sell Trailing Stop: \u001b[39m\u001b[38;5;132;01m{\u001b[39;00mstop_loss\u001b[38;5;132;01m}\u001b[39;00m\u001b[38;5;130;01m\\n\u001b[39;00m\u001b[38;5;124m\"\u001b[39m)\n\u001b[0;32m     20\u001b[0m         send_telegram_message(\u001b[38;5;124mf\u001b[39m\u001b[38;5;124m\"\u001b[39m\u001b[38;5;124mUpdated Sell Trailing Stop: \u001b[39m\u001b[38;5;132;01m{\u001b[39;00mstop_loss\u001b[38;5;132;01m}\u001b[39;00m\u001b[38;5;130;01m\\n\u001b[39;00m\u001b[38;5;124m\"\u001b[39m)\n\u001b[1;32m---> 22\u001b[0m \u001b[43mtime\u001b[49m\u001b[38;5;241;43m.\u001b[39;49m\u001b[43msleep\u001b[49m\u001b[43m(\u001b[49m\u001b[38;5;241;43m5\u001b[39;49m\u001b[43m)\u001b[49m\n",
      "\u001b[1;31mKeyboardInterrupt\u001b[0m: "
     ]
    }
   ],
   "source": [
    "# Start Trading\n",
    "trading_bot()"
   ]
  },
  {
   "cell_type": "code",
   "execution_count": null,
   "metadata": {},
   "outputs": [],
   "source": [
    "# TODO: \n",
    "'''check market volume before placing Trade'''\n",
    "\"\"\"Choose differnt Strategies for London, Asia, & New York sessions\"\"\""
   ]
  }
 ],
 "metadata": {
  "kernelspec": {
   "display_name": "Python 3",
   "language": "python",
   "name": "python3"
  },
  "language_info": {
   "codemirror_mode": {
    "name": "ipython",
    "version": 3
   },
   "file_extension": ".py",
   "mimetype": "text/x-python",
   "name": "python",
   "nbconvert_exporter": "python",
   "pygments_lexer": "ipython3",
   "version": "3.10.0"
  }
 },
 "nbformat": 4,
 "nbformat_minor": 2
}
