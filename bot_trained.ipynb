{
 "cells": [
  {
   "cell_type": "code",
   "execution_count": 28,
   "metadata": {},
   "outputs": [],
   "source": [
    "import MetaTrader5 as mt5\n",
    "import mysql.connector\n",
    "import pandas as pd\n",
    "import numpy as np\n",
    "import time\n",
    "import requests\n",
    "from datetime import datetime"
   ]
  },
  {
   "cell_type": "code",
   "execution_count": 29,
   "metadata": {},
   "outputs": [],
   "source": [
    "# Connect to Exness MT5\n",
    "# if not mt5.initialize():\n",
    "#     print(\"MT5 initialization failed \\n\")\n",
    "#     quit()\n",
    "\n",
    "YOUR_LOGIN = 209191272\n",
    "YOUR_PWD = \"asd123ASD_\"\n",
    "SERVER = \"Exness-MT5Trial9\""
   ]
  },
  {
   "cell_type": "code",
   "execution_count": 30,
   "metadata": {},
   "outputs": [
    {
     "name": "stdout",
     "output_type": "stream",
     "text": [
      "Connected successfully!\n",
      "\n"
     ]
    }
   ],
   "source": [
    "# Connect to the MetaTrader 5 terminal\n",
    "if not mt5.initialize(login=YOUR_LOGIN, server=SERVER, password=YOUR_PWD):\n",
    "    print(\"Failed to connect to MT5\\n\")\n",
    "    mt5.shutdown()\n",
    "else:\n",
    "    print(\"Connected successfully!\\n\")"
   ]
  },
  {
   "cell_type": "code",
   "execution_count": 31,
   "metadata": {},
   "outputs": [],
   "source": [
    "# Get account information\n",
    "# account_info = mt5.account_info()\n",
    "# if account_info is None:\n",
    "#     print(\"Failed to get account information\\n\")\n",
    "# else:\n",
    "#     print(f\"Account Info: {account_info}\\n\")\n"
   ]
  },
  {
   "cell_type": "code",
   "execution_count": 32,
   "metadata": {},
   "outputs": [],
   "source": [
    "# Trading Configuration\n",
    "PAIR = \"XAUUSDm\"\n",
    "RISK_PERCENTAGE = 2  # Risk 2% per trade\n",
    "STOP_LOSS_PIPS = 30\n",
    "TAKE_PROFIT_PIPS = 90\n",
    "WIN_RATE = 0.55  # Based on backtest\n",
    "MAX_LOSSES = 3  # Stop trading after 3 consecutive losses\n",
    "loss_streak = 0  # Track consecutive losses"
   ]
  },
  {
   "cell_type": "code",
   "execution_count": 33,
   "metadata": {},
   "outputs": [],
   "source": [
    "# Telegram Bot Configuration\n",
    "TELEGRAM_BOT_TOKEN = \"YOUR_TELEGRAM_BOT_TOKEN\"\n",
    "TELEGRAM_CHAT_ID = \"YOUR_TELEGRAM_CHAT_ID\""
   ]
  },
  {
   "cell_type": "code",
   "execution_count": 34,
   "metadata": {},
   "outputs": [],
   "source": [
    "# Connect to MySQL (XAMPP)\n",
    "conn = mysql.connector.connect(\n",
    "    host=\"localhost\",\n",
    "    user=\"root\",\n",
    "    password=\"\",\n",
    "    database=\"trading_db\"\n",
    ")\n",
    "cursor = conn.cursor()"
   ]
  },
  {
   "cell_type": "code",
   "execution_count": 35,
   "metadata": {},
   "outputs": [],
   "source": [
    "def send_telegram_message(message):\n",
    "    \"\"\" Send trade notifications to Telegram. \"\"\"\n",
    "    url = f\"https://api.telegram.org/bot{TELEGRAM_BOT_TOKEN}/sendMessage\"\n",
    "    params = {\"chat_id\": TELEGRAM_CHAT_ID, \"text\": message}\n",
    "    requests.post(url, params=params)"
   ]
  },
  {
   "cell_type": "code",
   "execution_count": 36,
   "metadata": {},
   "outputs": [],
   "source": [
    "def fetch_market_price():\n",
    "    \"\"\" Get the latest market price for Gold (XAUUSD). \"\"\"\n",
    "    tick = mt5.symbol_info_tick(PAIR)\n",
    "    return tick.ask"
   ]
  },
  {
   "cell_type": "code",
   "execution_count": null,
   "metadata": {},
   "outputs": [],
   "source": [
    "def fetch_moving_averages():\n",
    "    \"\"\" Fetch Moving Averages (MA 100, MA 5, MA 2) for trend confirmation. \"\"\"\n",
    "    rates = mt5.copy_rates_from_pos(PAIR, mt5.TIMEFRAME_H1, 0, 200)\n",
    "    # rates = mt5.copy_rates_from_pos(PAIR, mt5.TIMEFRAME_M1, 0, 200)\n",
    "    df = pd.DataFrame(rates)\n",
    "    \n",
    "    df[\"MA100\"] = df[\"close\"].rolling(window=100).mean()\n",
    "    df[\"MA5\"] = df[\"close\"].rolling(window=5).mean()\n",
    "    df[\"MA2\"] = df[\"close\"].rolling(window=2).mean()\n",
    "    \n",
    "    return df.iloc[-1]  # Return latest row\n",
    "    # print(mt5)\n",
    "\n",
    "# fetch_moving_averages()"
   ]
  },
  {
   "cell_type": "code",
   "execution_count": 38,
   "metadata": {},
   "outputs": [],
   "source": [
    "# def fetch_moving_averages():\n",
    "#     rates = mt5.copy_rates_from_pos(PAIR, mt5.TIMEFRAME_H1, 0, 200)\n",
    "#     if rates is None or len(rates) == 0:\n",
    "#         print(\"❌ Failed to fetch market data.\")\n",
    "#         return None\n",
    "\n",
    "#     df = pd.DataFrame(rates)\n",
    "#     if 'close' not in df.columns:\n",
    "#         print(\"❌ 'close' column not found in the DataFrame.\")\n",
    "#         print(df.head())\n",
    "#         print(df.columns)\n",
    "#         return None\n",
    "\n",
    "#     df[\"MA100\"] = df[\"close\"].rolling(window=100).mean()\n",
    "#     df[\"MA5\"] = df[\"close\"].rolling(window=5).mean()\n",
    "#     df[\"MA2\"] = df[\"close\"].rolling(window=2).mean()\n",
    "#     # return df\n",
    "#     return df.iloc[-1]  # Return latest row\n",
    "\n",
    "# # fetch_moving_averages()\n"
   ]
  },
  {
   "cell_type": "code",
   "execution_count": 39,
   "metadata": {},
   "outputs": [],
   "source": [
    "def calculate_lot_size(balance):\n",
    "    \"\"\" Calculate lot size based on 2% risk per trade. \"\"\"\n",
    "    risk_amount = balance * (RISK_PERCENTAGE / 100)\n",
    "    lot_size = risk_amount / STOP_LOSS_PIPS  # Adjust based on pip value\n",
    "    return round(lot_size, 2)"
   ]
  },
  {
   "cell_type": "code",
   "execution_count": 40,
   "metadata": {},
   "outputs": [],
   "source": [
    "def place_trade(balance):\n",
    "    \"\"\" Place buy/sell trade based on strategy rules. \"\"\"\n",
    "    global loss_streak\n",
    "    if loss_streak >= MAX_LOSSES:\n",
    "        print(\"Maximum consecutive losses reached. Stopping trading.\\n\")\n",
    "        send_telegram_message(\"🚨 Trading paused due to 3 consecutive losses.\")\n",
    "        return None  # Stop trading\n",
    "\n",
    "    ma = fetch_moving_averages()\n",
    "    market_price = fetch_market_price()\n",
    "    lot_size = calculate_lot_size(balance)\n",
    "\n",
    "    if market_price > ma[\"MA100\"] and ma[\"MA2\"] > ma[\"MA5\"]:  \n",
    "        trade_type = \"buy\"\n",
    "        stop_loss = market_price - STOP_LOSS_PIPS\n",
    "        take_profit = market_price + TAKE_PROFIT_PIPS\n",
    "    elif market_price < ma[\"MA100\"] and ma[\"MA2\"] < ma[\"MA5\"]:\n",
    "        trade_type = \"sell\"\n",
    "        stop_loss = market_price + STOP_LOSS_PIPS\n",
    "        take_profit = market_price - TAKE_PROFIT_PIPS\n",
    "    else:\n",
    "        return None  # No valid trade signal\n",
    "\n",
    "    request = {\n",
    "        \"action\": mt5.TRADE_ACTION_DEAL,\n",
    "        \"symbol\": PAIR,\n",
    "        \"volume\": lot_size,\n",
    "        \"type\": mt5.ORDER_TYPE_BUY if trade_type == \"buy\" else mt5.ORDER_TYPE_SELL,\n",
    "        \"price\": market_price,\n",
    "        \"sl\": stop_loss,\n",
    "        \"tp\": take_profit,\n",
    "        \"deviation\": 10,\n",
    "        \"magic\": 123456,\n",
    "        \"comment\": \"Automated Trade\",\n",
    "        \"type_time\": mt5.ORDER_TIME_GTC,\n",
    "        \"type_filling\": mt5.ORDER_FILLING_IOC\n",
    "    }\n",
    "\n",
    "    result = mt5.order_send(request)\n",
    "    if result.retcode == mt5.TRADE_RETCODE_DONE:\n",
    "        message = f\"✅ {trade_type.upper()} Trade Placed\\nLot Size: {lot_size}\\nEntry: {market_price}\\nSL: {stop_loss}\\nTP: {take_profit}\"\n",
    "        send_telegram_message(message)\n",
    "        return {\"type\": trade_type, \"lot_size\": lot_size, \"entry\": market_price, \"sl\": stop_loss, \"tp\": take_profit}\n",
    "    else:\n",
    "        print(f\"Trade failed: {result.comment} \\n\")\n",
    "        return None"
   ]
  },
  {
   "cell_type": "code",
   "execution_count": 41,
   "metadata": {},
   "outputs": [],
   "source": [
    "def log_trade(trade, exit_price, profit_loss):\n",
    "    \"\"\" Save trade details to MySQL database. \"\"\"\n",
    "    sql = \"\"\"\n",
    "    INSERT INTO trade_logs (pair, trade_type, lot_size, entry_price, stop_loss, take_profit, exit_price, profit_loss)\n",
    "    VALUES (%s, %s, %s, %s, %s, %s, %s, %s);\n",
    "    \"\"\"\n",
    "    cursor.execute(sql, (PAIR, trade[\"type\"], trade[\"lot_size\"], trade[\"entry\"], trade[\"sl\"], trade[\"tp\"], exit_price, profit_loss))\n",
    "    conn.commit()\n",
    "    print(\"Trade logged in database.\\n\")"
   ]
  },
  {
   "cell_type": "code",
   "execution_count": 42,
   "metadata": {},
   "outputs": [],
   "source": [
    "def trailing_stop(trade):\n",
    "    \"\"\" Adjust stop loss dynamically when price moves in favor. \"\"\"\n",
    "    entry_price = trade[\"entry\"]\n",
    "    stop_loss = trade[\"sl\"]\n",
    "    trade_type = trade[\"type\"]\n",
    "\n",
    "    while True:\n",
    "        current_price = fetch_market_price()\n",
    "        if trade_type == \"buy\" and current_price > entry_price + 30:\n",
    "            new_stop_loss = current_price - 20\n",
    "            if new_stop_loss > stop_loss:\n",
    "                stop_loss = new_stop_loss\n",
    "                print(f\"Updated Buy Trailing Stop: {stop_loss} \\n\")\n",
    "        elif trade_type == \"sell\" and current_price < entry_price - 30:\n",
    "            new_stop_loss = current_price + 20\n",
    "            if new_stop_loss < stop_loss:\n",
    "                stop_loss = new_stop_loss\n",
    "                print(f\"Updated Sell Trailing Stop: {stop_loss}\\n\")\n",
    "\n",
    "        time.sleep(5)  # Delay to avoid excessive API calls"
   ]
  },
  {
   "cell_type": "code",
   "execution_count": 43,
   "metadata": {},
   "outputs": [],
   "source": [
    "def trading_bot():\n",
    "    \"\"\" Main trading loop. \"\"\"\n",
    "    global loss_streak\n",
    "    balance = 100  # Starting balance\n",
    "    while balance > 0:\n",
    "        trade = place_trade(balance)\n",
    "        if trade:\n",
    "            trailing_stop(trade)\n",
    "\n",
    "            # Simulate trade outcome\n",
    "            exit_price = fetch_market_price()\n",
    "            profit_loss = balance * (0.03 if WIN_RATE > 0.55 else -0.01)\n",
    "            balance += profit_loss\n",
    "\n",
    "            log_trade(trade, exit_price, profit_loss)\n",
    "\n",
    "            if profit_loss < 0:\n",
    "                loss_streak += 1\n",
    "            else:\n",
    "                loss_streak = 0  # Reset loss streak on win\n",
    "\n",
    "            print(f\"Updated Balance: {round(balance, 2)} \\n\")\n",
    "            send_telegram_message(f\"📊 Balance Updated: {round(balance, 2)}\")\n",
    "\n",
    "        time.sleep(10)  # Wait before checking for new trades"
   ]
  },
  {
   "cell_type": "code",
   "execution_count": null,
   "metadata": {},
   "outputs": [],
   "source": [
    "# Start Trading\n",
    "trading_bot()"
   ]
  }
 ],
 "metadata": {
  "kernelspec": {
   "display_name": "Python 3",
   "language": "python",
   "name": "python3"
  },
  "language_info": {
   "codemirror_mode": {
    "name": "ipython",
    "version": 3
   },
   "file_extension": ".py",
   "mimetype": "text/x-python",
   "name": "python",
   "nbconvert_exporter": "python",
   "pygments_lexer": "ipython3",
   "version": "3.10.0"
  }
 },
 "nbformat": 4,
 "nbformat_minor": 2
}
