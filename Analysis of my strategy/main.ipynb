{
 "cells": [
  {
   "cell_type": "code",
   "execution_count": 13,
   "metadata": {},
   "outputs": [],
   "source": [
    "import pandas as pd\n",
    "\n",
    "# Load the CSV file\n",
    "data = pd.read_csv(\"GOLD H1.csv\")"
   ]
  },
  {
   "cell_type": "code",
   "execution_count": 14,
   "metadata": {},
   "outputs": [],
   "source": [
    "# Ensure the data has 'Date', 'Time', 'Open', 'High', 'Low', 'Close' columns\n",
    "# Combine Date and Time into a single datetime column\n",
    "# data['datetime'] = pd.to_datetime(data['Date'] + ' ' + data['Time'])\n",
    "data.set_index('Date', inplace=True)"
   ]
  },
  {
   "cell_type": "code",
   "execution_count": 15,
   "metadata": {},
   "outputs": [],
   "source": [
    "# Convert prices to numeric in case they are read as strings\n",
    "data['Close'] = pd.to_numeric(data['Close'], errors='coerce')"
   ]
  },
  {
   "cell_type": "code",
   "execution_count": 16,
   "metadata": {},
   "outputs": [],
   "source": [
    "# Calculate Moving Averages (MA 2, MA 5, and MA 100)\n",
    "data['MA_2'] = data['Close'].rolling(window=2).mean()\n",
    "data['MA_5'] = data['Close'].rolling(window=5).mean()\n",
    "data['MA_100'] = data['Close'].rolling(window=100).mean()"
   ]
  },
  {
   "cell_type": "code",
   "execution_count": 17,
   "metadata": {},
   "outputs": [],
   "source": [
    "# Generate buy/sell signals\n",
    "signals = []\n",
    "for i in range(1, len(data)):\n",
    "    row = data.iloc[i]\n",
    "    prev_row = data.iloc[i - 1]\n",
    "\n",
    "    if row['Close'] > row['MA_100']:\n",
    "        # Long condition: Price above MA 100 and MA 2 crosses above MA 5\n",
    "        if prev_row['MA_2'] < prev_row['MA_5'] and row['MA_2'] > row['MA_5']:\n",
    "            signals.append((row.name, 'buy', row['Close']))\n",
    "    elif row['Close'] < row['MA_100']:\n",
    "        # Short condition: Price below MA 100 and MA 2 crosses below MA 5\n",
    "        if prev_row['MA_2'] > prev_row['MA_5'] and row['MA_2'] < row['MA_5']:\n",
    "            signals.append((row.name, 'sell', row['Close']))"
   ]
  },
  {
   "cell_type": "code",
   "execution_count": 18,
   "metadata": {},
   "outputs": [],
   "source": [
    "# Calculate profits and losses\n",
    "results = []\n",
    "tp_pips = 60\n",
    "sl_pips = 30"
   ]
  },
  {
   "cell_type": "code",
   "execution_count": 19,
   "metadata": {},
   "outputs": [],
   "source": [
    "for signal in signals:\n",
    "    entry_time, action, entry_price = signal\n",
    "    if action == 'buy':\n",
    "        tp = entry_price + tp_pips * 0.01  # Adjust based on pip size\n",
    "        sl = entry_price - sl_pips * 0.01\n",
    "    elif action == 'sell':\n",
    "        tp = entry_price - tp_pips * 0.01\n",
    "        sl = entry_price + sl_pips * 0.01\n",
    "\n",
    "    # Track profit/loss outcome\n",
    "    outcome = {'entry_time': entry_time, 'action': action, 'entry_price': entry_price}\n",
    "    results.append(outcome)"
   ]
  },
  {
   "cell_type": "code",
   "execution_count": 39,
   "metadata": {},
   "outputs": [
    {
     "name": "stdout",
     "output_type": "stream",
     "text": [
      "Total Profit: 45103\n"
     ]
    }
   ],
   "source": [
    "# Convert results to a DataFrame for easier analysis\n",
    "results_df = pd.DataFrame(results)\n",
    "\n",
    "# Calculate total profits and display\n",
    "# total_profit = results_df['profit'].sum()\n",
    "total_profit = results_df['entry_price'].sum()\n",
    "print(\"Total Profit:\", int(total_profit/100))"
   ]
  }
 ],
 "metadata": {
  "kernelspec": {
   "display_name": "Python 3",
   "language": "python",
   "name": "python3"
  },
  "language_info": {
   "codemirror_mode": {
    "name": "ipython",
    "version": 3
   },
   "file_extension": ".py",
   "mimetype": "text/x-python",
   "name": "python",
   "nbconvert_exporter": "python",
   "pygments_lexer": "ipython3",
   "version": "3.10.0"
  }
 },
 "nbformat": 4,
 "nbformat_minor": 2
}
