{
 "cells": [
  {
   "cell_type": "code",
   "execution_count": 1,
   "id": "b666027d",
   "metadata": {},
   "outputs": [
    {
     "name": "stdout",
     "output_type": "stream",
     "text": [
      "Testing\n"
     ]
    }
   ],
   "source": [
    "print(\"Testing\")"
   ]
  },
  {
   "cell_type": "code",
   "execution_count": 6,
   "id": "e17a61f5",
   "metadata": {},
   "outputs": [],
   "source": [
    "import mysqlite\n",
    "import sqlite3 as MYSQL\n",
    "\n",
    "# Connection to Database\n",
    "conn = MYSQL.connect(\"analysis.db\")\n",
    "\n",
    "# Create your Cursor\n",
    "my_cursor = conn.cursor()"
   ]
  },
  {
   "cell_type": "markdown",
   "id": "77ea3be0",
   "metadata": {},
   "source": [
    "### SQL Commands or Code"
   ]
  },
  {
   "cell_type": "code",
   "execution_count": null,
   "id": "06fa0ba0",
   "metadata": {},
   "outputs": [],
   "source": [
    "# creating of tables\n",
    "table = '''CREATE TABLE IF NOT EXISTS users(\n",
    "    user_id INTEGER PRIMARY KEY AUTOINCREMENT,\n",
    "    username VARCHAR(255) NOT NULL,\n",
    "    email VARCHAR(255) NOT NULL UNIQUE,\n",
    "    password VARCHAR(255) NOT NULL\n",
    ")'''\n",
    "\n",
    "my_cursor.execute(table)"
   ]
  },
  {
   "cell_type": "code",
   "execution_count": 7,
   "id": "6f6431de",
   "metadata": {},
   "outputs": [
    {
     "data": {
      "text/plain": [
       "<sqlite3.Cursor at 0x1a091453ac0>"
      ]
     },
     "execution_count": 7,
     "metadata": {},
     "output_type": "execute_result"
    }
   ],
   "source": [
    "# SQL - Structured Query Language\n",
    "\n",
    "my_cursor.execute('''CREATE TABLE IF NOT EXISTS users(\n",
    "    user_id INTEGER PRIMARY KEY AUTOINCREMENT,\n",
    "    username VARCHAR(255) NOT NULL,\n",
    "    email VARCHAR(255) NOT NULL UNIQUE,\n",
    "    password VARCHAR(255) NOT NULL\n",
    ")''')"
   ]
  },
  {
   "cell_type": "code",
   "execution_count": null,
   "id": "9e654e92",
   "metadata": {},
   "outputs": [],
   "source": [
    "my_cursor.execute('''SHOW TABLES''')\n",
    "conn.commit()\n",
    "conn.close()"
   ]
  },
  {
   "cell_type": "code",
   "execution_count": null,
   "id": "72ec187d",
   "metadata": {},
   "outputs": [
    {
     "data": {
      "text/plain": [
       "<sqlite3.Cursor at 0x1a091453ac0>"
      ]
     },
     "execution_count": 12,
     "metadata": {},
     "output_type": "execute_result"
    }
   ],
   "source": [
    "my_cursor.execute('''\n",
    "    INSERT INTO users(user_id, username, email, password) VALUES (?, ?, ?, ?)\n",
    "''', (None, \"John\", \"john@gmail.com\", \"123456\"))\n"
   ]
  },
  {
   "cell_type": "code",
   "execution_count": null,
   "id": "dd4842ce",
   "metadata": {},
   "outputs": [],
   "source": []
  }
 ],
 "metadata": {
  "kernelspec": {
   "display_name": "Python 3",
   "language": "python",
   "name": "python3"
  },
  "language_info": {
   "codemirror_mode": {
    "name": "ipython",
    "version": 3
   },
   "file_extension": ".py",
   "mimetype": "text/x-python",
   "name": "python",
   "nbconvert_exporter": "python",
   "pygments_lexer": "ipython3",
   "version": "3.10.0"
  }
 },
 "nbformat": 4,
 "nbformat_minor": 5
}
